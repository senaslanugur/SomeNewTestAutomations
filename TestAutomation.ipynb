{
 "cells": [
  {
   "cell_type": "code",
   "execution_count": 2,
   "id": "907b5d0d",
   "metadata": {},
   "outputs": [],
   "source": [
    "import pyautogui as gui, time"
   ]
  },
  {
   "cell_type": "code",
   "execution_count": 3,
   "id": "1c66e2cd",
   "metadata": {},
   "outputs": [
    {
     "ename": "TypeError",
     "evalue": "cannot unpack non-iterable NoneType object",
     "output_type": "error",
     "traceback": [
      "\u001b[1;31m---------------------------------------------------------------------------\u001b[0m",
      "\u001b[1;31mTypeError\u001b[0m                                 Traceback (most recent call last)",
      "Input \u001b[1;32mIn [3]\u001b[0m, in \u001b[0;36m<cell line: 14>\u001b[1;34m()\u001b[0m\n\u001b[0;32m     14\u001b[0m image_location \u001b[38;5;241m=\u001b[39m gui\u001b[38;5;241m.\u001b[39mlocateAllOnScreen(\u001b[38;5;124m\"\u001b[39m\u001b[38;5;124mCapture.png\u001b[39m\u001b[38;5;124m\"\u001b[39m)\n\u001b[0;32m     15\u001b[0m \u001b[38;5;28;01mif\u001b[39;00m image_location:\n\u001b[1;32m---> 16\u001b[0m     \u001b[43mgui\u001b[49m\u001b[38;5;241;43m.\u001b[39;49m\u001b[43mclick\u001b[49m\u001b[43m(\u001b[49m\u001b[38;5;124;43m\"\u001b[39;49m\u001b[38;5;124;43mCapture.png\u001b[39;49m\u001b[38;5;124;43m\"\u001b[39;49m\u001b[43m)\u001b[49m\n\u001b[0;32m     17\u001b[0m     gui\u001b[38;5;241m.\u001b[39malert(\u001b[38;5;124m'\u001b[39m\u001b[38;5;124mtıklandi\u001b[39m\u001b[38;5;124m'\u001b[39m)\n\u001b[0;32m     18\u001b[0m     \u001b[38;5;28;01mbreak\u001b[39;00m\n",
      "File \u001b[1;32m~\\Anaconda3\\lib\\site-packages\\pyautogui\\__init__.py:598\u001b[0m, in \u001b[0;36m_genericPyAutoGUIChecks.<locals>.wrapper\u001b[1;34m(*args, **kwargs)\u001b[0m\n\u001b[0;32m    595\u001b[0m \u001b[38;5;129m@functools\u001b[39m\u001b[38;5;241m.\u001b[39mwraps(wrappedFunction)\n\u001b[0;32m    596\u001b[0m \u001b[38;5;28;01mdef\u001b[39;00m \u001b[38;5;21mwrapper\u001b[39m(\u001b[38;5;241m*\u001b[39margs, \u001b[38;5;241m*\u001b[39m\u001b[38;5;241m*\u001b[39mkwargs):\n\u001b[0;32m    597\u001b[0m     failSafeCheck()\n\u001b[1;32m--> 598\u001b[0m     returnVal \u001b[38;5;241m=\u001b[39m wrappedFunction(\u001b[38;5;241m*\u001b[39margs, \u001b[38;5;241m*\u001b[39m\u001b[38;5;241m*\u001b[39mkwargs)\n\u001b[0;32m    599\u001b[0m     _handlePause(kwargs\u001b[38;5;241m.\u001b[39mget(\u001b[38;5;124m\"\u001b[39m\u001b[38;5;124m_pause\u001b[39m\u001b[38;5;124m\"\u001b[39m, \u001b[38;5;28;01mTrue\u001b[39;00m))\n\u001b[0;32m    600\u001b[0m     \u001b[38;5;28;01mreturn\u001b[39;00m returnVal\n",
      "File \u001b[1;32m~\\Anaconda3\\lib\\site-packages\\pyautogui\\__init__.py:980\u001b[0m, in \u001b[0;36mclick\u001b[1;34m(x, y, clicks, interval, button, duration, tween, logScreenshot, _pause)\u001b[0m\n\u001b[0;32m    978\u001b[0m \u001b[38;5;66;03m# TODO: I'm leaving buttons 4, 5, 6, and 7 undocumented for now. I need to understand how they work.\u001b[39;00m\n\u001b[0;32m    979\u001b[0m button \u001b[38;5;241m=\u001b[39m _normalizeButton(button)\n\u001b[1;32m--> 980\u001b[0m x, y \u001b[38;5;241m=\u001b[39m _normalizeXYArgs(x, y)\n\u001b[0;32m    982\u001b[0m \u001b[38;5;66;03m# Move the mouse cursor to the x, y coordinate:\u001b[39;00m\n\u001b[0;32m    983\u001b[0m _mouseMoveDrag(\u001b[38;5;124m\"\u001b[39m\u001b[38;5;124mmove\u001b[39m\u001b[38;5;124m\"\u001b[39m, x, y, \u001b[38;5;241m0\u001b[39m, \u001b[38;5;241m0\u001b[39m, duration, tween)\n",
      "\u001b[1;31mTypeError\u001b[0m: cannot unpack non-iterable NoneType object"
     ]
    }
   ],
   "source": [
    "gui.press(\"WIN\")\n",
    "gui.typewrite(\"Chrome\", interval=0.25)\n",
    "gui.press(\"enter\")\n",
    "time.sleep(2)\n",
    "gui.click()\n",
    "gui.hotkey('WIN', 'up')\n",
    "gui.hotkey(\"ctrl\",\"shift\",\"n\")\n",
    "time.sleep(2)\n",
    "gui.typewrite(\"https://outlook.com\",interval=0.25)\n",
    "gui.press(\"enter\")\n",
    "time.sleep(2)\n",
    "\n",
    "while True:\n",
    "    image_location = gui.locateAllOnScreen(\"Capture.png\")\n",
    "    if image_location:\n",
    "        gui.click(\"Capture.png\")\n",
    "        gui.alert('tıklandi')\n",
    "        break"
   ]
  },
  {
   "cell_type": "code",
   "execution_count": null,
   "id": "b3cdd486",
   "metadata": {},
   "outputs": [],
   "source": []
  },
  {
   "cell_type": "code",
   "execution_count": null,
   "id": "b05c9e5c",
   "metadata": {},
   "outputs": [],
   "source": []
  },
  {
   "cell_type": "code",
   "execution_count": null,
   "id": "1be0b4b0",
   "metadata": {},
   "outputs": [],
   "source": []
  }
 ],
 "metadata": {
  "kernelspec": {
   "display_name": "Python 3 (ipykernel)",
   "language": "python",
   "name": "python3"
  },
  "language_info": {
   "codemirror_mode": {
    "name": "ipython",
    "version": 3
   },
   "file_extension": ".py",
   "mimetype": "text/x-python",
   "name": "python",
   "nbconvert_exporter": "python",
   "pygments_lexer": "ipython3",
   "version": "3.9.12"
  }
 },
 "nbformat": 4,
 "nbformat_minor": 5
}
